{
 "cells": [
  {
   "cell_type": "code",
   "execution_count": 2,
   "id": "e17b5734",
   "metadata": {},
   "outputs": [],
   "source": [
    "import numpy as np\n",
    "from Utility import *\n",
    "from data_loader import * \n",
    "from cross_validation import *\n",
    "from implementation import *\n",
    "\n",
    "%matplotlib inline\n",
    "import numpy as np\n",
    "import matplotlib.pyplot as plt\n",
    "%load_ext autoreload\n",
    "%autoreload 2"
   ]
  },
  {
   "cell_type": "markdown",
   "id": "f1dde9bd",
   "metadata": {},
   "source": [
    "# Testing the models"
   ]
  },
  {
   "cell_type": "code",
   "execution_count": 7,
   "id": "0f781cf1",
   "metadata": {},
   "outputs": [],
   "source": [
    "(tx_train,y_train)=data_loader('/Users/nounou/Desktop/EPFL/M3/ML/Untitled/ML_course/projects/project1/data', True, True, 'Mean', True)"
   ]
  },
  {
   "cell_type": "code",
   "execution_count": 8,
   "id": "1eebdbc8",
   "metadata": {},
   "outputs": [],
   "source": [
    "tx_train0=tx_train[0]\n",
    "y_train0=np.array(y_train[0])\n",
    "\n",
    "tx_train1=tx_train[1]\n",
    "y_train1=np.array(y_train[1])\n",
    "\n",
    "tx_test=tx_train[2]\n",
    "y_test=np.array(y_train[2])\n",
    "\n",
    "tx_train2=tx_train[3]\n",
    "y_train2=np.array(y_train[3])"
   ]
  },
  {
   "cell_type": "code",
   "execution_count": 9,
   "id": "cdad8a52",
   "metadata": {},
   "outputs": [
    {
     "data": {
      "text/plain": [
       "(199621, 30)"
      ]
     },
     "execution_count": 9,
     "metadata": {},
     "output_type": "execute_result"
    }
   ],
   "source": [
    "X_train= np.concatenate([tx_train0,tx_train1,tx_train2],axis=0)\n",
    "X_train.shape"
   ]
  },
  {
   "cell_type": "code",
   "execution_count": 10,
   "id": "6dd58c14",
   "metadata": {},
   "outputs": [
    {
     "data": {
      "text/plain": [
       "(199621,)"
      ]
     },
     "execution_count": 10,
     "metadata": {},
     "output_type": "execute_result"
    }
   ],
   "source": [
    "y_train= np.concatenate([y_train0,y_train1,y_train2])\n",
    "y_train.shape"
   ]
  },
  {
   "cell_type": "code",
   "execution_count": 11,
   "id": "eb782b4f",
   "metadata": {
    "scrolled": true
   },
   "outputs": [
    {
     "data": {
      "text/plain": [
       "(30,)"
      ]
     },
     "execution_count": 11,
     "metadata": {},
     "output_type": "execute_result"
    }
   ],
   "source": [
    "initial_w = normal_init_w(X_train.shape[1], mu = 0, sigma = 0.1)\n",
    "initial_w.shape"
   ]
  },
  {
   "cell_type": "markdown",
   "id": "b606e506",
   "metadata": {},
   "source": [
    "### Least squares"
   ]
  },
  {
   "cell_type": "code",
   "execution_count": 61,
   "id": "1f85a937",
   "metadata": {},
   "outputs": [],
   "source": [
    "weights, losses = least_squares(y_train, X_train)"
   ]
  },
  {
   "cell_type": "code",
   "execution_count": 62,
   "id": "53bc286b",
   "metadata": {},
   "outputs": [
    {
     "data": {
      "text/plain": [
       "0.5550725899969957"
      ]
     },
     "execution_count": 62,
     "metadata": {},
     "output_type": "execute_result"
    }
   ],
   "source": [
    "losses"
   ]
  },
  {
   "cell_type": "code",
   "execution_count": 63,
   "id": "e9abe832",
   "metadata": {},
   "outputs": [
    {
     "data": {
      "text/plain": [
       "0.5274816887989042"
      ]
     },
     "execution_count": 63,
     "metadata": {},
     "output_type": "execute_result"
    }
   ],
   "source": [
    "accuracy(y_test, tx_test, weights)"
   ]
  },
  {
   "cell_type": "markdown",
   "id": "e527e1aa",
   "metadata": {},
   "source": [
    "### Least squares Gradient Descent"
   ]
  },
  {
   "cell_type": "code",
   "execution_count": 64,
   "id": "5e0f2f22",
   "metadata": {},
   "outputs": [],
   "source": [
    "weights, losses = least_squares_GD(y_train, X_train, initial_w, 500, 0.1)"
   ]
  },
  {
   "cell_type": "code",
   "execution_count": 65,
   "id": "9436dbf5",
   "metadata": {},
   "outputs": [
    {
     "data": {
      "text/plain": [
       "0.5560840090832654"
      ]
     },
     "execution_count": 65,
     "metadata": {},
     "output_type": "execute_result"
    }
   ],
   "source": [
    "losses"
   ]
  },
  {
   "cell_type": "code",
   "execution_count": 66,
   "id": "032ab37f",
   "metadata": {},
   "outputs": [
    {
     "data": {
      "text/plain": [
       "0.5267274062605452"
      ]
     },
     "execution_count": 66,
     "metadata": {},
     "output_type": "execute_result"
    }
   ],
   "source": [
    "accuracy(y_test, tx_test, weights)"
   ]
  },
  {
   "cell_type": "markdown",
   "id": "0a0517e7",
   "metadata": {},
   "source": [
    "### Least squares Stochastic Gradient Descent"
   ]
  },
  {
   "cell_type": "code",
   "execution_count": 27,
   "id": "2a4c91f5",
   "metadata": {},
   "outputs": [],
   "source": [
    "weights, losses = least_squares_SGD(y_train, X_train, initial_w, 500, 1e-3)"
   ]
  },
  {
   "cell_type": "code",
   "execution_count": 28,
   "id": "2e05f653",
   "metadata": {},
   "outputs": [
    {
     "data": {
      "text/plain": [
       "0.5832692914977239"
      ]
     },
     "execution_count": 28,
     "metadata": {},
     "output_type": "execute_result"
    }
   ],
   "source": [
    "losses"
   ]
  },
  {
   "cell_type": "code",
   "execution_count": 29,
   "id": "fdf381bc",
   "metadata": {},
   "outputs": [
    {
     "data": {
      "text/plain": [
       "0.5098949959308442"
      ]
     },
     "execution_count": 29,
     "metadata": {},
     "output_type": "execute_result"
    }
   ],
   "source": [
    "accuracy(y_test, tx_test, weights)"
   ]
  },
  {
   "cell_type": "markdown",
   "id": "bec5772d",
   "metadata": {},
   "source": [
    "### Ridge regression"
   ]
  },
  {
   "cell_type": "code",
   "execution_count": 38,
   "id": "31df488f",
   "metadata": {},
   "outputs": [],
   "source": [
    "weights, losses = ridge_regression(y_train, X_train, 1e-4)"
   ]
  },
  {
   "cell_type": "code",
   "execution_count": 39,
   "id": "1e20c109",
   "metadata": {
    "scrolled": true
   },
   "outputs": [
    {
     "data": {
      "text/plain": [
       "0.5550793575897304"
      ]
     },
     "execution_count": 39,
     "metadata": {},
     "output_type": "execute_result"
    }
   ],
   "source": [
    "losses"
   ]
  },
  {
   "cell_type": "code",
   "execution_count": 40,
   "id": "fa06b0f0",
   "metadata": {},
   "outputs": [
    {
     "data": {
      "text/plain": [
       "0.5274022906369717"
      ]
     },
     "execution_count": 40,
     "metadata": {},
     "output_type": "execute_result"
    }
   ],
   "source": [
    "accuracy(y_test, tx_test, weights)"
   ]
  },
  {
   "cell_type": "markdown",
   "id": "359b528f",
   "metadata": {},
   "source": [
    "### logistic_regression"
   ]
  },
  {
   "cell_type": "code",
   "execution_count": 41,
   "id": "ef42cfd8",
   "metadata": {},
   "outputs": [],
   "source": [
    "weights, losses = logistic_regression(y_train, X_train, initial_w, 1000, 1e-3)"
   ]
  },
  {
   "cell_type": "code",
   "execution_count": 42,
   "id": "2c93beb4",
   "metadata": {},
   "outputs": [
    {
     "data": {
      "text/plain": [
       "22.806200706872325"
      ]
     },
     "execution_count": 42,
     "metadata": {},
     "output_type": "execute_result"
    }
   ],
   "source": [
    "losses"
   ]
  },
  {
   "cell_type": "code",
   "execution_count": 43,
   "id": "3ad60847",
   "metadata": {},
   "outputs": [
    {
     "data": {
      "text/plain": [
       "0.5750610373369857"
      ]
     },
     "execution_count": 43,
     "metadata": {},
     "output_type": "execute_result"
    }
   ],
   "source": [
    "accuracy(y_test, tx_test, weights)"
   ]
  },
  {
   "cell_type": "markdown",
   "id": "3d6066f4",
   "metadata": {},
   "source": [
    "### Regularized logistic_regression"
   ]
  },
  {
   "cell_type": "code",
   "execution_count": 48,
   "id": "54e35490",
   "metadata": {},
   "outputs": [],
   "source": [
    "weights, losses = reg_logistic_regression(y_train, X_train, 1e-5, initial_w, 1000, 1e-3)"
   ]
  },
  {
   "cell_type": "code",
   "execution_count": 49,
   "id": "a831d1d2",
   "metadata": {},
   "outputs": [
    {
     "data": {
      "text/plain": [
       "86.93639479023855"
      ]
     },
     "execution_count": 49,
     "metadata": {},
     "output_type": "execute_result"
    }
   ],
   "source": [
    "losses"
   ]
  },
  {
   "cell_type": "code",
   "execution_count": 50,
   "id": "294a6ce7",
   "metadata": {},
   "outputs": [
    {
     "data": {
      "text/plain": [
       "0.588082335893924"
      ]
     },
     "execution_count": 50,
     "metadata": {},
     "output_type": "execute_result"
    }
   ],
   "source": [
    "accuracy(y_test, tx_test, weights)"
   ]
  },
  {
   "cell_type": "markdown",
   "id": "4edc2c15",
   "metadata": {},
   "source": [
    "# Testing cross-validation"
   ]
  },
  {
   "cell_type": "code",
   "execution_count": 3,
   "id": "b78f4475",
   "metadata": {},
   "outputs": [
    {
     "data": {
      "text/plain": [
       "(250000, 30)"
      ]
     },
     "execution_count": 3,
     "metadata": {},
     "output_type": "execute_result"
    }
   ],
   "source": [
    "(X,y)=data_loader('/Users/nounou/Desktop/EPFL/M3/ML/Untitled/ML_course/projects/project1/data', True, True, 'Mean', False)\n",
    "folds = 3\n",
    "X.shape"
   ]
  },
  {
   "cell_type": "code",
   "execution_count": 4,
   "id": "b83a3f43",
   "metadata": {},
   "outputs": [
    {
     "data": {
      "text/plain": [
       "(30,)"
      ]
     },
     "execution_count": 4,
     "metadata": {},
     "output_type": "execute_result"
    }
   ],
   "source": [
    "initial_w = normal_init_w(X.shape[1], mu = 0, sigma = 0.1)\n",
    "initial_w.shape"
   ]
  },
  {
   "cell_type": "markdown",
   "id": "64c68f1b",
   "metadata": {},
   "source": [
    "### Least Squares"
   ]
  },
  {
   "cell_type": "code",
   "execution_count": null,
   "id": "6f8fbbae",
   "metadata": {
    "scrolled": true
   },
   "outputs": [],
   "source": [
    "weights, losses, MSE = cross_validation(folds, X, y, initial_w, 1, 0.1, 0,'least_squares')\n",
    "print(losses)"
   ]
  },
  {
   "cell_type": "code",
   "execution_count": null,
   "id": "fdfe1de1",
   "metadata": {},
   "outputs": [],
   "source": [
    "accuracy(y_test, tx_test, weights)"
   ]
  },
  {
   "cell_type": "markdown",
   "id": "bf9c410c",
   "metadata": {},
   "source": [
    "### Least squares Gradient Descent\n"
   ]
  },
  {
   "cell_type": "code",
   "execution_count": 5,
   "id": "feed3e82",
   "metadata": {},
   "outputs": [
    {
     "name": "stdout",
     "output_type": "stream",
     "text": [
      "0.9240678119265558\n"
     ]
    }
   ],
   "source": [
    "weights, losses, MSE  = cross_validation(folds, X, y, initial_w, 500, 1e-3, 0, 'least_squares_GD')\n",
    "print(losses)"
   ]
  },
  {
   "cell_type": "code",
   "execution_count": 6,
   "id": "6c6a088e",
   "metadata": {},
   "outputs": [
    {
     "data": {
      "text/plain": [
       "0.9240678119265558"
      ]
     },
     "execution_count": 6,
     "metadata": {},
     "output_type": "execute_result"
    }
   ],
   "source": [
    "losses"
   ]
  },
  {
   "cell_type": "code",
   "execution_count": 7,
   "id": "a162cb37",
   "metadata": {},
   "outputs": [
    {
     "ename": "NameError",
     "evalue": "name 'y_test' is not defined",
     "output_type": "error",
     "traceback": [
      "\u001b[0;31m---------------------------------------------------------------------------\u001b[0m",
      "\u001b[0;31mNameError\u001b[0m                                 Traceback (most recent call last)",
      "\u001b[0;32m/var/folders/kc/5wgtb93s7y9d5mzpdd41qclw0000gn/T/ipykernel_17386/3206933565.py\u001b[0m in \u001b[0;36m<module>\u001b[0;34m\u001b[0m\n\u001b[0;32m----> 1\u001b[0;31m \u001b[0maccuracy\u001b[0m\u001b[0;34m(\u001b[0m\u001b[0my_test\u001b[0m\u001b[0;34m,\u001b[0m \u001b[0mtx_test\u001b[0m\u001b[0;34m,\u001b[0m \u001b[0mweights\u001b[0m\u001b[0;34m)\u001b[0m\u001b[0;34m\u001b[0m\u001b[0;34m\u001b[0m\u001b[0m\n\u001b[0m",
      "\u001b[0;31mNameError\u001b[0m: name 'y_test' is not defined"
     ]
    }
   ],
   "source": [
    "accuracy(y, X, weights)"
   ]
  },
  {
   "cell_type": "markdown",
   "id": "e82e4eef",
   "metadata": {},
   "source": [
    "### Least squares Stochastic Gradient Descent"
   ]
  },
  {
   "cell_type": "code",
   "execution_count": null,
   "id": "f180aac9",
   "metadata": {},
   "outputs": [],
   "source": [
    "weights, losses = cross_validation(folds, X, y, initial_w, 10, 1e-3, 0, 'least_squares_SGD')\n",
    "print(losses)"
   ]
  },
  {
   "cell_type": "code",
   "execution_count": null,
   "id": "85f897d6",
   "metadata": {},
   "outputs": [],
   "source": [
    "accuracy(y, X, weights)"
   ]
  },
  {
   "cell_type": "markdown",
   "id": "2472d61d",
   "metadata": {},
   "source": [
    "### Ridge regression"
   ]
  },
  {
   "cell_type": "code",
   "execution_count": null,
   "id": "755ee40c",
   "metadata": {},
   "outputs": [],
   "source": [
    "weights, losses = cross_validation(folds, X, y, initial_w, 10, 0.1, 1e-4, 'ridge_regression')\n",
    "print(losses)"
   ]
  },
  {
   "cell_type": "code",
   "execution_count": null,
   "id": "f06f1a0e",
   "metadata": {},
   "outputs": [],
   "source": [
    "accuracy(y, X, weights)"
   ]
  },
  {
   "cell_type": "markdown",
   "id": "9d4de31d",
   "metadata": {},
   "source": [
    "### logistic_regression\n"
   ]
  },
  {
   "cell_type": "code",
   "execution_count": 33,
   "id": "929fc659",
   "metadata": {},
   "outputs": [
    {
     "name": "stdout",
     "output_type": "stream",
     "text": [
      "1.3505587960646015\n"
     ]
    }
   ],
   "source": [
    "weights, losses, MSE = cross_validation(folds, X, y, initial_w, 1000, 1e-3, 0, 'logistic_regression')\n",
    "print(losses)"
   ]
  },
  {
   "cell_type": "code",
   "execution_count": null,
   "id": "401f5525",
   "metadata": {},
   "outputs": [],
   "source": [
    "accuracy(y, X, weights)"
   ]
  },
  {
   "cell_type": "markdown",
   "id": "6f631615",
   "metadata": {},
   "source": [
    "### Regularized logistic_regression\n"
   ]
  },
  {
   "cell_type": "code",
   "execution_count": 13,
   "id": "af2fc4a3",
   "metadata": {},
   "outputs": [
    {
     "ename": "TypeError",
     "evalue": "ufunc 'logaddexp' not supported for the input types, and the inputs could not be safely coerced to any supported types according to the casting rule ''safe''",
     "output_type": "error",
     "traceback": [
      "\u001b[0;31m---------------------------------------------------------------------------\u001b[0m",
      "\u001b[0;31mTypeError\u001b[0m                                 Traceback (most recent call last)",
      "\u001b[0;32m/var/folders/kc/5wgtb93s7y9d5mzpdd41qclw0000gn/T/ipykernel_17704/2454536291.py\u001b[0m in \u001b[0;36m<module>\u001b[0;34m\u001b[0m\n\u001b[0;32m----> 1\u001b[0;31m \u001b[0mweights\u001b[0m\u001b[0;34m,\u001b[0m \u001b[0mlosses\u001b[0m \u001b[0;34m=\u001b[0m \u001b[0mcross_validation\u001b[0m\u001b[0;34m(\u001b[0m\u001b[0mfolds\u001b[0m\u001b[0;34m,\u001b[0m \u001b[0mX\u001b[0m\u001b[0;34m.\u001b[0m\u001b[0mT\u001b[0m\u001b[0;34m,\u001b[0m \u001b[0my\u001b[0m\u001b[0;34m,\u001b[0m \u001b[0minitial_w\u001b[0m\u001b[0;34m,\u001b[0m \u001b[0;36m1000\u001b[0m\u001b[0;34m,\u001b[0m \u001b[0;36m1e-3\u001b[0m\u001b[0;34m,\u001b[0m \u001b[0;36m1e-5\u001b[0m\u001b[0;34m,\u001b[0m \u001b[0;34m'logistic_regression'\u001b[0m\u001b[0;34m)\u001b[0m\u001b[0;34m\u001b[0m\u001b[0;34m\u001b[0m\u001b[0m\n\u001b[0m\u001b[1;32m      2\u001b[0m \u001b[0mprint\u001b[0m\u001b[0;34m(\u001b[0m\u001b[0mlosses\u001b[0m\u001b[0;34m)\u001b[0m\u001b[0;34m\u001b[0m\u001b[0;34m\u001b[0m\u001b[0m\n",
      "\u001b[0;32m~/Desktop/EPFL/M3/ML/ML_HiggsBoson/Code/cross_validation.py\u001b[0m in \u001b[0;36mcross_validation\u001b[0;34m(folds, X, y, initial_w, max_iters, gamma, lambda_, method)\u001b[0m\n\u001b[1;32m     39\u001b[0m             \u001b[0mweights\u001b[0m\u001b[0;34m[\u001b[0m\u001b[0mi\u001b[0m\u001b[0;34m]\u001b[0m\u001b[0;34m,\u001b[0m \u001b[0mlosses\u001b[0m\u001b[0;34m[\u001b[0m\u001b[0mi\u001b[0m\u001b[0;34m]\u001b[0m \u001b[0;34m=\u001b[0m \u001b[0mridge_regression\u001b[0m\u001b[0;34m(\u001b[0m\u001b[0my_train\u001b[0m\u001b[0;34m,\u001b[0m \u001b[0mX_train\u001b[0m\u001b[0;34m.\u001b[0m\u001b[0mT\u001b[0m\u001b[0;34m,\u001b[0m \u001b[0mlambda_\u001b[0m\u001b[0;34m)\u001b[0m\u001b[0;34m\u001b[0m\u001b[0;34m\u001b[0m\u001b[0m\n\u001b[1;32m     40\u001b[0m         \u001b[0;32mif\u001b[0m \u001b[0mmethod\u001b[0m \u001b[0;34m==\u001b[0m \u001b[0;34m'logistic_regression'\u001b[0m\u001b[0;34m:\u001b[0m\u001b[0;34m\u001b[0m\u001b[0;34m\u001b[0m\u001b[0m\n\u001b[0;32m---> 41\u001b[0;31m             \u001b[0mweights\u001b[0m\u001b[0;34m[\u001b[0m\u001b[0mi\u001b[0m\u001b[0;34m]\u001b[0m\u001b[0;34m,\u001b[0m \u001b[0mlosses\u001b[0m\u001b[0;34m[\u001b[0m\u001b[0mi\u001b[0m\u001b[0;34m]\u001b[0m \u001b[0;34m=\u001b[0m \u001b[0mlogistic_regression\u001b[0m\u001b[0;34m(\u001b[0m\u001b[0my_train\u001b[0m\u001b[0;34m,\u001b[0m \u001b[0mX_train\u001b[0m\u001b[0;34m.\u001b[0m\u001b[0mT\u001b[0m\u001b[0;34m,\u001b[0m \u001b[0minitial_w\u001b[0m\u001b[0;34m,\u001b[0m \u001b[0mmax_iters\u001b[0m\u001b[0;34m,\u001b[0m \u001b[0mgamma\u001b[0m\u001b[0;34m)\u001b[0m\u001b[0;34m\u001b[0m\u001b[0;34m\u001b[0m\u001b[0m\n\u001b[0m\u001b[1;32m     42\u001b[0m         \u001b[0;32mif\u001b[0m \u001b[0mmethod\u001b[0m \u001b[0;34m==\u001b[0m \u001b[0;34m'reg_logistic_regression'\u001b[0m\u001b[0;34m:\u001b[0m\u001b[0;34m\u001b[0m\u001b[0;34m\u001b[0m\u001b[0m\n\u001b[1;32m     43\u001b[0m             \u001b[0mweights\u001b[0m\u001b[0;34m[\u001b[0m\u001b[0mi\u001b[0m\u001b[0;34m]\u001b[0m\u001b[0;34m,\u001b[0m \u001b[0mlosses\u001b[0m\u001b[0;34m[\u001b[0m\u001b[0mi\u001b[0m\u001b[0;34m]\u001b[0m \u001b[0;34m=\u001b[0m \u001b[0mreg_logistic_regression\u001b[0m\u001b[0;34m(\u001b[0m\u001b[0my_train\u001b[0m\u001b[0;34m,\u001b[0m \u001b[0mX_train\u001b[0m\u001b[0;34m.\u001b[0m\u001b[0mT\u001b[0m\u001b[0;34m,\u001b[0m \u001b[0mlambda_\u001b[0m\u001b[0;34m,\u001b[0m \u001b[0minitial_w\u001b[0m\u001b[0;34m,\u001b[0m \u001b[0mmax_iters\u001b[0m\u001b[0;34m,\u001b[0m \u001b[0mgamma\u001b[0m\u001b[0;34m)\u001b[0m\u001b[0;34m\u001b[0m\u001b[0;34m\u001b[0m\u001b[0m\n",
      "\u001b[0;32m~/Desktop/EPFL/M3/ML/ML_HiggsBoson/Code/implementation.py\u001b[0m in \u001b[0;36mlogistic_regression\u001b[0;34m(y, tx, initial_w, max_iters, gamma)\u001b[0m\n\u001b[1;32m    133\u001b[0m \u001b[0;34m\u001b[0m\u001b[0m\n\u001b[1;32m    134\u001b[0m     \u001b[0;32mfor\u001b[0m \u001b[0mn_iter\u001b[0m \u001b[0;32min\u001b[0m \u001b[0mrange\u001b[0m\u001b[0;34m(\u001b[0m\u001b[0mmax_iters\u001b[0m\u001b[0;34m)\u001b[0m\u001b[0;34m:\u001b[0m\u001b[0;34m\u001b[0m\u001b[0;34m\u001b[0m\u001b[0m\n\u001b[0;32m--> 135\u001b[0;31m         \u001b[0mgrad\u001b[0m \u001b[0;34m=\u001b[0m \u001b[0mcalculate_gradient_LR\u001b[0m\u001b[0;34m(\u001b[0m\u001b[0my_resize\u001b[0m\u001b[0;34m,\u001b[0m \u001b[0mtx\u001b[0m\u001b[0;34m,\u001b[0m \u001b[0mw\u001b[0m\u001b[0;34m)\u001b[0m\u001b[0;34m\u001b[0m\u001b[0;34m\u001b[0m\u001b[0m\n\u001b[0m\u001b[1;32m    136\u001b[0m         \u001b[0mw\u001b[0m \u001b[0;34m=\u001b[0m \u001b[0mw\u001b[0m \u001b[0;34m-\u001b[0m \u001b[0mgamma\u001b[0m \u001b[0;34m*\u001b[0m \u001b[0mgrad\u001b[0m\u001b[0;34m\u001b[0m\u001b[0;34m\u001b[0m\u001b[0m\n\u001b[1;32m    137\u001b[0m         \u001b[0mloss\u001b[0m \u001b[0;34m=\u001b[0m  \u001b[0mcompute_loss_LG\u001b[0m\u001b[0;34m(\u001b[0m\u001b[0my_resize\u001b[0m\u001b[0;34m,\u001b[0m \u001b[0mtx\u001b[0m\u001b[0;34m,\u001b[0m \u001b[0mw\u001b[0m\u001b[0;34m)\u001b[0m\u001b[0;34m\u001b[0m\u001b[0;34m\u001b[0m\u001b[0m\n",
      "\u001b[0;32m~/Desktop/EPFL/M3/ML/ML_HiggsBoson/Code/Utility.py\u001b[0m in \u001b[0;36mcalculate_gradient_LR\u001b[0;34m(y, tx, w)\u001b[0m\n\u001b[1;32m    135\u001b[0m     \u001b[0mGradient\u001b[0m \u001b[0mwrt\u001b[0m \u001b[0meach\u001b[0m \u001b[0mweight\u001b[0m \u001b[0;34m:\u001b[0m \u001b[0marray\u001b[0m \u001b[0;34m[\u001b[0m\u001b[0md\u001b[0m\u001b[0;34m]\u001b[0m\u001b[0;34m\u001b[0m\u001b[0;34m\u001b[0m\u001b[0m\n\u001b[1;32m    136\u001b[0m     \"\"\"\n\u001b[0;32m--> 137\u001b[0;31m     \u001b[0;32mreturn\u001b[0m \u001b[0mtx\u001b[0m\u001b[0;34m.\u001b[0m\u001b[0mT\u001b[0m\u001b[0;34m@\u001b[0m\u001b[0;34m(\u001b[0m \u001b[0msigmoid\u001b[0m\u001b[0;34m(\u001b[0m\u001b[0mtx\u001b[0m\u001b[0;34m@\u001b[0m\u001b[0mw\u001b[0m\u001b[0;34m)\u001b[0m \u001b[0;34m-\u001b[0m \u001b[0my\u001b[0m\u001b[0;34m)\u001b[0m\u001b[0;34m\u001b[0m\u001b[0;34m\u001b[0m\u001b[0m\n\u001b[0m\u001b[1;32m    138\u001b[0m \u001b[0;34m\u001b[0m\u001b[0m\n\u001b[1;32m    139\u001b[0m \u001b[0;34m\u001b[0m\u001b[0m\n",
      "\u001b[0;32m~/Desktop/EPFL/M3/ML/ML_HiggsBoson/Code/Utility.py\u001b[0m in \u001b[0;36msigmoid\u001b[0;34m(x)\u001b[0m\n\u001b[1;32m     80\u001b[0m     \u001b[0moutput\u001b[0m \u001b[0my\u001b[0m \u001b[0;34m=\u001b[0m \u001b[0msigmoid\u001b[0m\u001b[0;34m(\u001b[0m\u001b[0mx\u001b[0m\u001b[0;34m)\u001b[0m \u001b[0;34m[\u001b[0m\u001b[0mm\u001b[0m\u001b[0;34m]\u001b[0m\u001b[0;34m\u001b[0m\u001b[0;34m\u001b[0m\u001b[0m\n\u001b[1;32m     81\u001b[0m     \"\"\"\n\u001b[0;32m---> 82\u001b[0;31m     \u001b[0;32mreturn\u001b[0m \u001b[0mnp\u001b[0m\u001b[0;34m.\u001b[0m\u001b[0mexp\u001b[0m\u001b[0;34m(\u001b[0m\u001b[0;34m-\u001b[0m\u001b[0mnp\u001b[0m\u001b[0;34m.\u001b[0m\u001b[0mlogaddexp\u001b[0m\u001b[0;34m(\u001b[0m\u001b[0;36m0\u001b[0m\u001b[0;34m,\u001b[0m\u001b[0;34m-\u001b[0m\u001b[0mx\u001b[0m\u001b[0;34m)\u001b[0m\u001b[0;34m)\u001b[0m\u001b[0;34m\u001b[0m\u001b[0;34m\u001b[0m\u001b[0m\n\u001b[0m\u001b[1;32m     83\u001b[0m \u001b[0;34m\u001b[0m\u001b[0m\n\u001b[1;32m     84\u001b[0m \u001b[0;31m#-----------------Gradient computation--------------------------\u001b[0m\u001b[0;34m\u001b[0m\u001b[0;34m\u001b[0m\u001b[0m\n",
      "\u001b[0;31mTypeError\u001b[0m: ufunc 'logaddexp' not supported for the input types, and the inputs could not be safely coerced to any supported types according to the casting rule ''safe''"
     ]
    }
   ],
   "source": [
    "weights, losses = cross_validation(folds, X.T, y, initial_w, 1000, 1e-3, 1e-5, 'logistic_regression')\n",
    "print(losses)"
   ]
  },
  {
   "cell_type": "code",
   "execution_count": null,
   "id": "4c34d7f8",
   "metadata": {},
   "outputs": [],
   "source": [
    "accuracy(y, X, weights)"
   ]
  },
  {
   "cell_type": "markdown",
   "id": "fe4d06bb",
   "metadata": {},
   "source": [
    "# Graph : optimiser le nombre de folds"
   ]
  },
  {
   "cell_type": "code",
   "execution_count": null,
   "id": "d6ca5bb5",
   "metadata": {},
   "outputs": [],
   "source": [
    "folds = [3, 6, 9]\n",
    "error = []\n",
    "for i in folds:\n",
    "    weights, losses, error = cross_validation(folds, X, y, initial_w, 10, 1e-3, 0, 'least_squares_GD')\n",
    "    error.append()\n",
    "    print(i)\n",
    "    print(error)"
   ]
  },
  {
   "cell_type": "markdown",
   "id": "fd0c6743",
   "metadata": {},
   "source": [
    "# Morceaux de code"
   ]
  },
  {
   "cell_type": "code",
   "execution_count": 3,
   "id": "8d3c20af",
   "metadata": {},
   "outputs": [],
   "source": [
    "data=data_loader('/Users/nounou/Desktop/EPFL/M3/ML/Untitled/ML_course/projects/project1/data')"
   ]
  },
  {
   "cell_type": "code",
   "execution_count": 4,
   "id": "2aa12980",
   "metadata": {},
   "outputs": [],
   "source": [
    "X = data[0]\n",
    "y = np.array(data[1])"
   ]
  },
  {
   "cell_type": "code",
   "execution_count": 10,
   "id": "b3a56089",
   "metadata": {},
   "outputs": [],
   "source": [
    "weights, losses = least_squares_GD_oldschool(y_train, X_train, initial_w, 500, 0.1)"
   ]
  },
  {
   "cell_type": "code",
   "execution_count": 97,
   "id": "fdf75100",
   "metadata": {},
   "outputs": [
    {
     "data": {
      "text/plain": [
       "array([ 0.30470312,  0.27496938,  0.24046977, ...,  0.13313142,\n",
       "        0.34889624, -0.08561813])"
      ]
     },
     "execution_count": 97,
     "metadata": {},
     "output_type": "execute_result"
    }
   ],
   "source": [
    "prediction = X_train@weights\n",
    "prediction"
   ]
  },
  {
   "cell_type": "code",
   "execution_count": 98,
   "id": "5dd7ebf3",
   "metadata": {},
   "outputs": [
    {
     "data": {
      "text/plain": [
       "0.5554859993544001"
      ]
     },
     "execution_count": 98,
     "metadata": {},
     "output_type": "execute_result"
    }
   ],
   "source": [
    "MSE = compute_loss_MSE(y_train, X_train, weights)\n",
    "MSE"
   ]
  },
  {
   "cell_type": "code",
   "execution_count": null,
   "id": "71ed37f2",
   "metadata": {},
   "outputs": [],
   "source": [
    "data=data_loader('/Users/nounou/Desktop/EPFL/M3/ML/Untitled/ML_course/projects/project1/data',)"
   ]
  },
  {
   "cell_type": "code",
   "execution_count": 52,
   "id": "41cc624a",
   "metadata": {},
   "outputs": [
    {
     "ename": "IndexError",
     "evalue": "tuple index out of range",
     "output_type": "error",
     "traceback": [
      "\u001b[0;31m---------------------------------------------------------------------------\u001b[0m",
      "\u001b[0;31mIndexError\u001b[0m                                Traceback (most recent call last)",
      "\u001b[0;32m/var/folders/kc/5wgtb93s7y9d5mzpdd41qclw0000gn/T/ipykernel_17063/4147088751.py\u001b[0m in \u001b[0;36m<module>\u001b[0;34m\u001b[0m\n\u001b[0;32m----> 1\u001b[0;31m \u001b[0mweights\u001b[0m\u001b[0;34m,\u001b[0m \u001b[0mlosses\u001b[0m\u001b[0;34m,\u001b[0m \u001b[0mMSE\u001b[0m  \u001b[0;34m=\u001b[0m \u001b[0mcross_validation\u001b[0m\u001b[0;34m(\u001b[0m\u001b[0;36m5\u001b[0m\u001b[0;34m,\u001b[0m \u001b[0mX\u001b[0m\u001b[0;34m,\u001b[0m \u001b[0my\u001b[0m\u001b[0;34m,\u001b[0m \u001b[0minitial_w\u001b[0m\u001b[0;34m,\u001b[0m \u001b[0;36m300\u001b[0m\u001b[0;34m,\u001b[0m \u001b[0;36m0.1\u001b[0m\u001b[0;34m,\u001b[0m \u001b[0;36m0\u001b[0m\u001b[0;34m,\u001b[0m \u001b[0;34m'least_squares_GD'\u001b[0m\u001b[0;34m)\u001b[0m\u001b[0;34m\u001b[0m\u001b[0;34m\u001b[0m\u001b[0m\n\u001b[0m\u001b[1;32m      2\u001b[0m \u001b[0mprint\u001b[0m\u001b[0;34m(\u001b[0m\u001b[0mlosses\u001b[0m\u001b[0;34m)\u001b[0m\u001b[0;34m\u001b[0m\u001b[0;34m\u001b[0m\u001b[0m\n",
      "\u001b[0;32m~/Desktop/EPFL/M3/ML/ML_HiggsBoson/Code/cross_validation.py\u001b[0m in \u001b[0;36mcross_validation\u001b[0;34m(folds, X, y, initial_w, max_iters, gamma, lambda_, method)\u001b[0m\n\u001b[1;32m      6\u001b[0m \u001b[0;34m\u001b[0m\u001b[0m\n\u001b[1;32m      7\u001b[0m     \u001b[0;31m# split the data in folds\u001b[0m\u001b[0;34m\u001b[0m\u001b[0;34m\u001b[0m\u001b[0m\n\u001b[0;32m----> 8\u001b[0;31m     \u001b[0mX_split\u001b[0m \u001b[0;34m=\u001b[0m \u001b[0mnp\u001b[0m\u001b[0;34m.\u001b[0m\u001b[0marray_split\u001b[0m\u001b[0;34m(\u001b[0m\u001b[0mX\u001b[0m\u001b[0;34m,\u001b[0m \u001b[0mfolds\u001b[0m\u001b[0;34m,\u001b[0m \u001b[0maxis\u001b[0m\u001b[0;34m=\u001b[0m\u001b[0;36m1\u001b[0m\u001b[0;34m)\u001b[0m\u001b[0;34m\u001b[0m\u001b[0;34m\u001b[0m\u001b[0m\n\u001b[0m\u001b[1;32m      9\u001b[0m     \u001b[0my_split\u001b[0m \u001b[0;34m=\u001b[0m \u001b[0mnp\u001b[0m\u001b[0;34m.\u001b[0m\u001b[0marray_split\u001b[0m\u001b[0;34m(\u001b[0m\u001b[0my\u001b[0m\u001b[0;34m,\u001b[0m \u001b[0mfolds\u001b[0m\u001b[0;34m)\u001b[0m\u001b[0;34m\u001b[0m\u001b[0;34m\u001b[0m\u001b[0m\n\u001b[1;32m     10\u001b[0m \u001b[0;34m\u001b[0m\u001b[0m\n",
      "\u001b[0;32m<__array_function__ internals>\u001b[0m in \u001b[0;36marray_split\u001b[0;34m(*args, **kwargs)\u001b[0m\n",
      "\u001b[0;32m~/mambaforge/lib/python3.9/site-packages/numpy/lib/shape_base.py\u001b[0m in \u001b[0;36marray_split\u001b[0;34m(ary, indices_or_sections, axis)\u001b[0m\n\u001b[1;32m    765\u001b[0m     \"\"\"\n\u001b[1;32m    766\u001b[0m     \u001b[0;32mtry\u001b[0m\u001b[0;34m:\u001b[0m\u001b[0;34m\u001b[0m\u001b[0;34m\u001b[0m\u001b[0m\n\u001b[0;32m--> 767\u001b[0;31m         \u001b[0mNtotal\u001b[0m \u001b[0;34m=\u001b[0m \u001b[0mary\u001b[0m\u001b[0;34m.\u001b[0m\u001b[0mshape\u001b[0m\u001b[0;34m[\u001b[0m\u001b[0maxis\u001b[0m\u001b[0;34m]\u001b[0m\u001b[0;34m\u001b[0m\u001b[0;34m\u001b[0m\u001b[0m\n\u001b[0m\u001b[1;32m    768\u001b[0m     \u001b[0;32mexcept\u001b[0m \u001b[0mAttributeError\u001b[0m\u001b[0;34m:\u001b[0m\u001b[0;34m\u001b[0m\u001b[0;34m\u001b[0m\u001b[0m\n\u001b[1;32m    769\u001b[0m         \u001b[0mNtotal\u001b[0m \u001b[0;34m=\u001b[0m \u001b[0mlen\u001b[0m\u001b[0;34m(\u001b[0m\u001b[0mary\u001b[0m\u001b[0;34m)\u001b[0m\u001b[0;34m\u001b[0m\u001b[0;34m\u001b[0m\u001b[0m\n",
      "\u001b[0;31mIndexError\u001b[0m: tuple index out of range"
     ]
    }
   ],
   "source": [
    "weights, losses, MSE  = cross_validation(5, X, y, initial_w, 300, 0.1, 0, 'least_squares_GD')\n",
    "print(losses)"
   ]
  },
  {
   "cell_type": "code",
   "execution_count": 71,
   "id": "e77f9b9f",
   "metadata": {},
   "outputs": [
    {
     "data": {
      "text/plain": [
       "-7.984766625668271e-15"
      ]
     },
     "execution_count": 71,
     "metadata": {},
     "output_type": "execute_result"
    }
   ],
   "source": [
    "prediction = X.T@weights\n",
    "prediction.mean()"
   ]
  },
  {
   "cell_type": "code",
   "execution_count": 70,
   "id": "8c037f2d",
   "metadata": {},
   "outputs": [
    {
     "data": {
      "text/plain": [
       "array([0, 1, 1, ..., 0, 1, 1])"
      ]
     },
     "execution_count": 70,
     "metadata": {},
     "output_type": "execute_result"
    }
   ],
   "source": [
    "y"
   ]
  },
  {
   "cell_type": "code",
   "execution_count": 50,
   "id": "23ec14e3",
   "metadata": {},
   "outputs": [
    {
     "name": "stdout",
     "output_type": "stream",
     "text": [
      "2\n",
      "1.5641538315573542\n",
      "3\n",
      "1.4893499619692914\n",
      "4\n",
      "1.544272848407768\n"
     ]
    }
   ],
   "source": [
    "error = []\n",
    "for i in range(2,5):\n",
    "    weights, losses, error = cross_validation(i, X, y, initial_w, 300, 1e-3, 0, 'least_squares_SGD')\n",
    "    print(i)\n",
    "    print(error)"
   ]
  },
  {
   "cell_type": "code",
   "execution_count": 49,
   "id": "1cb05ddb",
   "metadata": {},
   "outputs": [
    {
     "ename": "IndexError",
     "evalue": "list assignment index out of range",
     "output_type": "error",
     "traceback": [
      "\u001b[0;31m---------------------------------------------------------------------------\u001b[0m",
      "\u001b[0;31mIndexError\u001b[0m                                Traceback (most recent call last)",
      "\u001b[0;32m/var/folders/kc/5wgtb93s7y9d5mzpdd41qclw0000gn/T/ipykernel_16504/1459205605.py\u001b[0m in \u001b[0;36m<module>\u001b[0;34m\u001b[0m\n\u001b[1;32m      1\u001b[0m \u001b[0mi\u001b[0m \u001b[0;34m=\u001b[0m \u001b[0;36m3\u001b[0m\u001b[0;34m\u001b[0m\u001b[0;34m\u001b[0m\u001b[0m\n\u001b[0;32m----> 2\u001b[0;31m \u001b[0mweights\u001b[0m\u001b[0;34m,\u001b[0m \u001b[0mlosses\u001b[0m\u001b[0;34m,\u001b[0m \u001b[0merror\u001b[0m\u001b[0;34m[\u001b[0m\u001b[0mi\u001b[0m\u001b[0;34m]\u001b[0m \u001b[0;34m=\u001b[0m \u001b[0mcross_validation\u001b[0m\u001b[0;34m(\u001b[0m\u001b[0;36m3\u001b[0m\u001b[0;34m*\u001b[0m\u001b[0mi\u001b[0m\u001b[0;34m,\u001b[0m \u001b[0mX\u001b[0m\u001b[0;34m,\u001b[0m \u001b[0my\u001b[0m\u001b[0;34m,\u001b[0m \u001b[0minitial_w\u001b[0m\u001b[0;34m,\u001b[0m \u001b[0;36m300\u001b[0m\u001b[0;34m,\u001b[0m \u001b[0;36m1e-3\u001b[0m\u001b[0;34m,\u001b[0m \u001b[0;36m0\u001b[0m\u001b[0;34m,\u001b[0m \u001b[0;34m'least_squares_SGD'\u001b[0m\u001b[0;34m)\u001b[0m\u001b[0;34m\u001b[0m\u001b[0;34m\u001b[0m\u001b[0m\n\u001b[0m",
      "\u001b[0;31mIndexError\u001b[0m: list assignment index out of range"
     ]
    }
   ],
   "source": [
    "i = 3\n",
    "weights, losses, error[i] = cross_validation(3*i, X, y, initial_w, 300, 1e-3, 0, 'least_squares_SGD')"
   ]
  }
 ],
 "metadata": {
  "kernelspec": {
   "display_name": "Python 3 (ipykernel)",
   "language": "python",
   "name": "python3"
  },
  "language_info": {
   "codemirror_mode": {
    "name": "ipython",
    "version": 3
   },
   "file_extension": ".py",
   "mimetype": "text/x-python",
   "name": "python",
   "nbconvert_exporter": "python",
   "pygments_lexer": "ipython3",
   "version": "3.9.7"
  }
 },
 "nbformat": 4,
 "nbformat_minor": 5
}
