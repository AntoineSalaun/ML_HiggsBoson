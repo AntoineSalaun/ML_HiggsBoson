{
 "cells": [
  {
   "cell_type": "code",
   "execution_count": 1,
   "metadata": {},
   "outputs": [],
   "source": [
    "from helpers import *\n",
    "from implementation import *\n",
    "from Utility import *\n",
    "import numpy as np"
   ]
  },
  {
   "cell_type": "code",
   "execution_count": 2,
   "metadata": {},
   "outputs": [],
   "source": [
    "data,target = data_loader() "
   ]
  },
  {
   "cell_type": "code",
   "execution_count": 3,
   "metadata": {},
   "outputs": [
    {
     "data": {
      "text/plain": [
       "(250000, 30)"
      ]
     },
     "execution_count": 3,
     "metadata": {},
     "output_type": "execute_result"
    }
   ],
   "source": [
    "data.shape"
   ]
  },
  {
   "cell_type": "code",
   "execution_count": 4,
   "metadata": {},
   "outputs": [],
   "source": [
    "data_s = data[0:250,:]\n",
    "target_s = target[0:250]"
   ]
  },
  {
   "cell_type": "code",
   "execution_count": 5,
   "metadata": {},
   "outputs": [
    {
     "data": {
      "text/plain": [
       "(250, 30)"
      ]
     },
     "execution_count": 5,
     "metadata": {},
     "output_type": "execute_result"
    }
   ],
   "source": [
    "data_s.shape"
   ]
  },
  {
   "cell_type": "code",
   "execution_count": 6,
   "metadata": {},
   "outputs": [
    {
     "data": {
      "text/plain": [
       "(30,)"
      ]
     },
     "execution_count": 6,
     "metadata": {},
     "output_type": "execute_result"
    }
   ],
   "source": [
    "initial_w = np.random.randn(data_s.shape[1])\n",
    "initial_w.shape"
   ]
  },
  {
   "cell_type": "code",
   "execution_count": 7,
   "metadata": {},
   "outputs": [
    {
     "data": {
      "text/plain": [
       "(250, 30)"
      ]
     },
     "execution_count": 7,
     "metadata": {},
     "output_type": "execute_result"
    }
   ],
   "source": [
    "data_s.shape"
   ]
  },
  {
   "cell_type": "code",
   "execution_count": 8,
   "metadata": {},
   "outputs": [],
   "source": [
    "w_LS, l_LS = least_squares_GD(target_s, data_s, initial_w, 1000, 0.1 )"
   ]
  },
  {
   "cell_type": "code",
   "execution_count": 9,
   "metadata": {},
   "outputs": [],
   "source": [
    "w_LSn, l_LSn = least_squares(target_s, data_s)"
   ]
  },
  {
   "cell_type": "code",
   "execution_count": 10,
   "metadata": {},
   "outputs": [],
   "source": [
    "w_SGD, l_SGD = least_squares_SGD(target_s, data_s, initial_w, 1000, 0.1)"
   ]
  },
  {
   "cell_type": "code",
   "execution_count": 11,
   "metadata": {},
   "outputs": [],
   "source": [
    "w_r, l_r = ridge_regression(target_s, data_s, 1e-8)"
   ]
  },
  {
   "cell_type": "code",
   "execution_count": 12,
   "metadata": {},
   "outputs": [],
   "source": [
    "w_log, l_log = logistic_regression(target_s, data_s, initial_w, 1000, 0.1)"
   ]
  },
  {
   "cell_type": "code",
   "execution_count": 13,
   "metadata": {},
   "outputs": [],
   "source": [
    "w_log2, l_log2 = reg_logistic_regression(target_s, data_s, 1e-8, initial_w, 1000, 0.1)"
   ]
  },
  {
   "cell_type": "code",
   "execution_count": 14,
   "metadata": {},
   "outputs": [
    {
     "data": {
      "text/plain": [
       "(30,)"
      ]
     },
     "execution_count": 14,
     "metadata": {},
     "output_type": "execute_result"
    }
   ],
   "source": [
    "compute_gradient(target_s, data_s, initial_w).shape"
   ]
  },
  {
   "cell_type": "code",
   "execution_count": 15,
   "metadata": {},
   "outputs": [
    {
     "data": {
      "text/plain": [
       "(250,)"
      ]
     },
     "execution_count": 15,
     "metadata": {},
     "output_type": "execute_result"
    }
   ],
   "source": [
    "sigmoid(target_s).shape"
   ]
  },
  {
   "cell_type": "code",
   "execution_count": 16,
   "metadata": {},
   "outputs": [],
   "source": [
    "test = data_loader(train = False)"
   ]
  },
  {
   "cell_type": "code",
   "execution_count": 17,
   "metadata": {},
   "outputs": [
    {
     "data": {
      "text/plain": [
       "array([ 0.02206708, -0.14245919,  0.41004903,  0.22918774,  0.20835324,\n",
       "       -0.05617447, -0.30231904, -0.29180075,  0.21937782, -0.56976663,\n",
       "        0.21758936,  0.44205664,  0.05164062,  0.0541988 ,  0.6007889 ,\n",
       "       -0.19320823, -0.35248331,  0.02147076,  0.4709237 ,  0.28019376,\n",
       "        0.30200402, -0.09328095,  0.18088634, -0.33517958,  0.39074869,\n",
       "        0.1314478 , -0.21363294, -0.18663322, -0.43815942, -0.61582747,\n",
       "        0.65148745, -1.00262613, -0.28573532,  0.26851619,  0.04578296,\n",
       "        0.2181289 , -0.13921412,  0.04851539,  0.08890472,  0.31080795,\n",
       "        0.15611987,  0.16760826,  0.1060824 ,  0.20614281,  0.04105976,\n",
       "        0.26410271, -0.0961802 ,  0.19750508, -0.07093847, -0.09389715,\n",
       "        0.35310342,  0.18287877,  0.60595977,  0.51568958,  0.47696078,\n",
       "        0.30762228, -0.1796974 , -0.67711671, -0.18664706,  1.11106216,\n",
       "       -0.155623  ,  0.29697809,  0.384911  , -0.02997979,  0.32457097,\n",
       "        0.18347897, -0.23262851,  0.2624097 , -0.02268659, -0.01199353,\n",
       "        0.27710911,  0.07864936,  0.52892016, -0.17561599,  0.29627527,\n",
       "        0.01039677,  0.40533831,  0.50677874, -0.27687151, -0.21984558,\n",
       "        0.2671837 ,  0.32609458, -0.19903146,  0.10528641, -0.30129468,\n",
       "        0.32097301,  0.7232884 , -0.04129581,  0.4615832 ,  0.04150543,\n",
       "        0.59880007,  0.0583722 ,  0.19999864, -0.20605097, -0.47622948,\n",
       "        0.35898496,  0.0388537 ,  0.26077354,  0.28817616,  0.11961265,\n",
       "        0.07384473,  0.0059532 ,  0.65376787,  0.09177415,  0.0794442 ,\n",
       "        0.30417537,  0.14510012, -1.15977786,  0.47771439,  0.51795877,\n",
       "       -0.58081708, -0.14721471,  0.20748853,  0.04560586,  0.27881162,\n",
       "       -0.16502976,  0.40091066,  0.59448784,  0.20979583, -0.25760824,\n",
       "       -0.01874188, -0.32803956,  0.09482799,  0.0756367 ,  0.35190805,\n",
       "       -0.83172524,  0.54269111, -0.56952882, -0.36670927,  0.31576072,\n",
       "        0.48602147,  0.44612848,  0.43019031, -0.057128  ,  0.32004259,\n",
       "       -0.16176413,  0.19225222,  0.27092437,  0.30822435, -0.31753662,\n",
       "        0.24812333,  0.33089412, -0.07237049,  0.15752932,  0.26430034,\n",
       "        0.36745323,  0.5259924 , -0.47008352,  0.02128259, -0.21176998,\n",
       "       -0.38648599,  0.00212948,  0.4278109 ,  0.18517525, -0.33160614,\n",
       "        0.22523556,  0.11816966,  0.12307643, -0.3311449 ,  0.03961125,\n",
       "        0.31138374,  0.48044386,  0.3623369 ,  0.26526227, -0.05621919,\n",
       "        0.34223419, -0.04648108, -0.25070817,  0.29724947, -0.14640693,\n",
       "        0.42980627,  0.30643533,  0.6523571 ,  0.42623346,  0.49648966,\n",
       "        0.3037685 ,  0.22335382,  0.56566507,  0.73500512, -0.12829632,\n",
       "        1.02488764,  0.15706434, -0.86832567, -0.31001988, -0.50743077,\n",
       "        0.74201662,  0.35753048, -0.33295217,  0.50369382,  0.18455228,\n",
       "       -0.14321599,  0.33614843, -0.11560389,  0.41020034,  0.43780921,\n",
       "        0.95000919,  0.37179444, -0.10804547, -0.13120844, -0.42785227,\n",
       "       -0.15438577, -0.58752284, -0.05451506,  0.40807349, -0.21978369,\n",
       "        0.45970272,  0.13584567,  0.54319914,  0.15423378,  0.16581156,\n",
       "       -0.03074907,  0.34243605, -0.38503716,  0.45348423,  0.1304406 ,\n",
       "       -0.47112521,  0.39140301,  0.28740598,  0.18299578, -0.34754551,\n",
       "       -0.3259594 , -0.16536484, -0.06815097,  0.29217274, -0.44868432,\n",
       "        0.52585061,  0.15100228,  0.31351785,  0.09491463,  0.27643125,\n",
       "        0.18751131,  0.08657125, -0.8136497 , -0.0078678 ,  0.20010304,\n",
       "       -0.36046108, -0.54036176, -0.13474759, -0.44389454,  0.23635245,\n",
       "        0.4365394 ,  0.3517737 ,  0.35353757,  0.10795819,  0.12585093,\n",
       "       -1.71363908, -1.1823884 , -0.07682092, -0.4850161 ,  0.03993868])"
      ]
     },
     "execution_count": 17,
     "metadata": {},
     "output_type": "execute_result"
    }
   ],
   "source": [
    "estim = data_s@w_LS\n",
    "estim"
   ]
  },
  {
   "cell_type": "code",
   "execution_count": 18,
   "metadata": {},
   "outputs": [
    {
     "data": {
      "text/plain": [
       "array([-0.51947781,  0.87164791, -0.08655773, -0.85057434,  0.        ,\n",
       "        0.        ,  0.        ,  0.14332354, -0.68972072, -0.69948035,\n",
       "        0.28832377, -1.0206396 ,  0.        , -0.43964486,  1.49346731,\n",
       "       -0.61827315,  0.08168257,  0.68428819,  1.54204967, -0.19072085,\n",
       "        0.13347625, -0.88675489, -1.00087589,  0.        ,  0.        ,\n",
       "        0.        ,  0.        ,  0.        ,  0.        , -0.74405712])"
      ]
     },
     "execution_count": 18,
     "metadata": {},
     "output_type": "execute_result"
    }
   ],
   "source": [
    "test[-1]"
   ]
  },
  {
   "cell_type": "code",
   "execution_count": 19,
   "metadata": {},
   "outputs": [
    {
     "data": {
      "text/plain": [
       "(568238, 30)"
      ]
     },
     "execution_count": 19,
     "metadata": {},
     "output_type": "execute_result"
    }
   ],
   "source": [
    "test.shape"
   ]
  },
  {
   "cell_type": "code",
   "execution_count": 20,
   "metadata": {},
   "outputs": [
    {
     "ename": "NameError",
     "evalue": "name 'X' is not defined",
     "output_type": "error",
     "traceback": [
      "\u001b[1;31m---------------------------------------------------------------------------\u001b[0m",
      "\u001b[1;31mNameError\u001b[0m                                 Traceback (most recent call last)",
      "\u001b[1;32m~\\AppData\\Local\\Temp/ipykernel_19848/2051637526.py\u001b[0m in \u001b[0;36m<module>\u001b[1;34m\u001b[0m\n\u001b[1;32m----> 1\u001b[1;33m \u001b[0mcovariance_matrix\u001b[0m \u001b[1;33m=\u001b[0m \u001b[0mnp\u001b[0m\u001b[1;33m.\u001b[0m\u001b[0mcov\u001b[0m\u001b[1;33m(\u001b[0m\u001b[0mX\u001b[0m\u001b[1;33m.\u001b[0m\u001b[0mT\u001b[0m\u001b[1;33m)\u001b[0m\u001b[1;33m\u001b[0m\u001b[1;33m\u001b[0m\u001b[0m\n\u001b[0m\u001b[0;32m      2\u001b[0m \u001b[0meigen_values\u001b[0m\u001b[1;33m,\u001b[0m \u001b[0meigen_vectors\u001b[0m \u001b[1;33m=\u001b[0m \u001b[0mnp\u001b[0m\u001b[1;33m.\u001b[0m\u001b[0mlinalg\u001b[0m\u001b[1;33m.\u001b[0m\u001b[0meig\u001b[0m\u001b[1;33m(\u001b[0m\u001b[0mcovariance_matrix\u001b[0m\u001b[1;33m)\u001b[0m\u001b[1;33m\u001b[0m\u001b[1;33m\u001b[0m\u001b[0m\n",
      "\u001b[1;31mNameError\u001b[0m: name 'X' is not defined"
     ]
    }
   ],
   "source": [
    "covariance_matrix = np.cov(X.T)\n",
    "eigen_values, eigen_vectors = np.linalg.eig(covariance_matrix)"
   ]
  },
  {
   "cell_type": "code",
   "execution_count": null,
   "metadata": {},
   "outputs": [],
   "source": [
    "variance_explained = []\n",
    "for i in eigen_values:\n",
    "     variance_explained.append((i/sum(eigen_values))*100)\n",
    "        \n",
    "print(variance_explained)"
   ]
  },
  {
   "cell_type": "code",
   "execution_count": null,
   "metadata": {},
   "outputs": [],
   "source": [
    "cumulative_variance_explained = np.cumsum(variance_explained)\n",
    "print(cumulative_variance_explained)"
   ]
  }
 ],
 "metadata": {
  "kernelspec": {
   "display_name": "Python 3 (ipykernel)",
   "language": "python",
   "name": "python3"
  },
  "language_info": {
   "codemirror_mode": {
    "name": "ipython",
    "version": 3
   },
   "file_extension": ".py",
   "mimetype": "text/x-python",
   "name": "python",
   "nbconvert_exporter": "python",
   "pygments_lexer": "ipython3",
   "version": "3.8.12"
  }
 },
 "nbformat": 4,
 "nbformat_minor": 4
}
