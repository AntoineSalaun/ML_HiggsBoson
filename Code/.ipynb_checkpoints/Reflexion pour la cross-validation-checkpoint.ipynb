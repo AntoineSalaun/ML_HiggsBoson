{
 "cells": [
  {
   "cell_type": "code",
   "execution_count": 248,
   "id": "8031ad59",
   "metadata": {},
   "outputs": [
    {
     "name": "stdout",
     "output_type": "stream",
     "text": [
      "The autoreload extension is already loaded. To reload it, use:\n",
      "  %reload_ext autoreload\n"
     ]
    }
   ],
   "source": [
    "import numpy as np\n",
    "from helpers import *\n",
    "from Utility import *\n",
    "from data_loader import *\n",
    "\n",
    "%matplotlib inline\n",
    "import numpy as np\n",
    "import matplotlib.pyplot as plt\n",
    "%load_ext autoreload\n",
    "%autoreload 2"
   ]
  },
  {
   "cell_type": "code",
   "execution_count": 7,
   "id": "8eaf906a",
   "metadata": {},
   "outputs": [],
   "source": [
    "data=data_loader('/Users/nounou/Desktop/EPFL/M3/ML/Untitled/ML_course/projects/project1/data/')"
   ]
  },
  {
   "cell_type": "code",
   "execution_count": 47,
   "id": "2afc6f09",
   "metadata": {},
   "outputs": [
    {
     "data": {
      "text/plain": [
       "array([[ 0.28991353,  0.68202131,  0.        , ..., -0.28624947,\n",
       "        -0.46960659,  0.        ],\n",
       "       [ 0.06833197,  0.55250482,  3.19515553, ...,  0.31931645,\n",
       "        -0.84532397,  0.66533608],\n",
       "       [ 0.40768027,  0.54013641,  1.09655998, ..., -0.13086367,\n",
       "        -0.30297338, -0.25352276],\n",
       "       ...,\n",
       "       [ 0.61614788,  0.        ,  0.        , ...,  0.        ,\n",
       "         0.        ,  0.        ],\n",
       "       [-1.36131161,  0.        ,  0.        , ...,  0.        ,\n",
       "         0.        ,  0.        ],\n",
       "       [ 0.4125105 , -0.27381996, -0.29396985, ..., -0.31701723,\n",
       "        -0.74543941, -0.74543941]])"
      ]
     },
     "execution_count": 47,
     "metadata": {},
     "output_type": "execute_result"
    }
   ],
   "source": [
    "X = data[0]\n",
    "X"
   ]
  },
  {
   "cell_type": "code",
   "execution_count": 115,
   "id": "ff282b7f",
   "metadata": {},
   "outputs": [
    {
     "data": {
      "text/plain": [
       "250000"
      ]
     },
     "execution_count": 115,
     "metadata": {},
     "output_type": "execute_result"
    }
   ],
   "source": [
    "y = np.array(data[1])\n",
    "len(y)"
   ]
  },
  {
   "cell_type": "code",
   "execution_count": 184,
   "id": "6202115a",
   "metadata": {},
   "outputs": [],
   "source": [
    "folds = 5\n",
    "X_split = np.array_split(X, folds, axis=1)\n",
    "y_split = np.array_split(y, folds)"
   ]
  },
  {
   "cell_type": "code",
   "execution_count": 189,
   "id": "132a58c6",
   "metadata": {},
   "outputs": [
    {
     "data": {
      "text/plain": [
       "30"
      ]
     },
     "execution_count": 189,
     "metadata": {},
     "output_type": "execute_result"
    }
   ],
   "source": [
    "len(X)"
   ]
  },
  {
   "cell_type": "code",
   "execution_count": 263,
   "id": "70450c1a",
   "metadata": {},
   "outputs": [],
   "source": [
    "mu, sigma = 0, 0.1 # mean and standard deviation\n",
    "initial_w = np.random.normal(mu, sigma, len(X))\n",
    "\n",
    "gamma =0.5\n",
    "\n",
    "max_iters = 200\n",
    "\n"
   ]
  },
  {
   "cell_type": "code",
   "execution_count": 264,
   "id": "1f186560",
   "metadata": {},
   "outputs": [],
   "source": [
    "weights = np.empty(folds, dtype=object) \n",
    "losses = np.empty(folds, dtype=object) \n",
    "MSE = np.empty(folds, dtype=object) \n",
    "\n",
    "for i in range(folds):\n",
    "\n",
    "    # numeros des folds à train \n",
    "    fold_train = list(range(folds))\n",
    "    del fold_train[i]\n",
    "    \n",
    "    # Creating the train set by joining several chunks :\n",
    "    X_train= np.concatenate([X_split[k] for k in fold_train],axis=1)\n",
    "    y_train= np.concatenate([y_split[k] for k in fold_train])\n",
    "    \n",
    "    # test sets\n",
    "    X_test= X_split[i]\n",
    "    y_test= y_split[i]\n",
    "    \n",
    "    # Training !\n",
    "    weights[i], losses[i] = least_squares_GD(y_train, X_train.T , initial_w, max_iters, gamma)\n",
    "    \n",
    "    #Estimate\n",
    "    #estimated = X_test.T.dot(weights[i])\n",
    "    \n",
    "    #Test\n",
    "    MSE[i] = compute_loss_MSE(y_test, X_test.T, weights[i])"
   ]
  },
  {
   "cell_type": "code",
   "execution_count": 265,
   "id": "5f45dc1f",
   "metadata": {},
   "outputs": [
    {
     "data": {
      "text/plain": [
       "4.706882244223358e+119"
      ]
     },
     "execution_count": 265,
     "metadata": {},
     "output_type": "execute_result"
    }
   ],
   "source": [
    "#Summing up the resultes\n",
    "\n",
    "mean_weights = np.mean(weights, axis=0) \n",
    "mean_losses = np.mean(losses, axis=0) \n",
    "mean_MSE = MSE.mean()\n",
    "\n",
    "mean_MSE"
   ]
  },
  {
   "cell_type": "code",
   "execution_count": 270,
   "id": "9a564e9c",
   "metadata": {},
   "outputs": [],
   "source": [
    "def cross_validation(folds, X, y, initial_w, max_iters, gamma, method = 'least_squares_GD' ,):\n",
    "    \n",
    "    # split the data in folds\n",
    "    X_split = np.array_split(X, folds, axis=1)\n",
    "    y_split = np.array_split(y, folds)\n",
    "    \n",
    "    # Define the arrays to store weights, losses and MSE for the K trains and tests\n",
    "    weights = np.empty(folds, dtype=object) \n",
    "    losses = np.empty(folds, dtype=object) \n",
    "    MSE = np.empty(folds, dtype=object) \n",
    "    \n",
    "    # For each fold :\n",
    "    for i in range(folds):\n",
    "\n",
    "        # The training will be done on every fold except the running number\n",
    "        fold_train = list(range(folds))\n",
    "        del fold_train[i]\n",
    "    \n",
    "        # Creating the train set by joining together every other fold\n",
    "        X_train= np.concatenate([X_split[k] for k in fold_train],axis=1)\n",
    "        y_train= np.concatenate([y_split[k] for k in fold_train])\n",
    "    \n",
    "        # test sets\n",
    "        X_test= X_split[i]\n",
    "        y_test= y_split[i]\n",
    "    \n",
    "        # The model is trained\n",
    "        if method == 'least_squares_GD':\n",
    "            weights[i], losses[i] = least_squares_GD(y_train, X_train.T , initial_w, max_iters, gamma)\n",
    "    \n",
    "        # The model is tested with a MSE computation\n",
    "        MSE[i] = compute_loss_MSE(y_test, X_test.T, weights[i])\n",
    "    \n",
    "    # To dexcribe the model, we average weights, losses and MSE\n",
    "    mean_weights = np.mean(weights, axis=0) \n",
    "    mean_losses = np.mean(losses, axis=0) \n",
    "    mean_MSE = MSE.mean()\n",
    "\n",
    "    return mean_weights, mean_losses, mean_MSE\n",
    "    \n",
    "    \n",
    "    "
   ]
  },
  {
   "cell_type": "code",
   "execution_count": 41,
   "id": "d0ec1aee",
   "metadata": {},
   "outputs": [
    {
     "ename": "TypeError",
     "evalue": "object of type 'int' has no len()",
     "output_type": "error",
     "traceback": [
      "\u001b[0;31m---------------------------------------------------------------------------\u001b[0m",
      "\u001b[0;31mTypeError\u001b[0m                                 Traceback (most recent call last)",
      "\u001b[0;32m/var/folders/kc/5wgtb93s7y9d5mzpdd41qclw0000gn/T/ipykernel_2279/3715836214.py\u001b[0m in \u001b[0;36m<module>\u001b[0;34m\u001b[0m\n\u001b[0;32m----> 1\u001b[0;31m \u001b[0;34m[\u001b[0m\u001b[0mlen\u001b[0m\u001b[0;34m(\u001b[0m\u001b[0ma\u001b[0m\u001b[0;34m)\u001b[0m \u001b[0;32mfor\u001b[0m \u001b[0ma\u001b[0m \u001b[0;32min\u001b[0m \u001b[0mdata\u001b[0m\u001b[0;34m[\u001b[0m\u001b[0;36m1\u001b[0m\u001b[0;34m]\u001b[0m\u001b[0;34m]\u001b[0m\u001b[0;34m\u001b[0m\u001b[0;34m\u001b[0m\u001b[0m\n\u001b[0m",
      "\u001b[0;32m/var/folders/kc/5wgtb93s7y9d5mzpdd41qclw0000gn/T/ipykernel_2279/3715836214.py\u001b[0m in \u001b[0;36m<listcomp>\u001b[0;34m(.0)\u001b[0m\n\u001b[0;32m----> 1\u001b[0;31m \u001b[0;34m[\u001b[0m\u001b[0mlen\u001b[0m\u001b[0;34m(\u001b[0m\u001b[0ma\u001b[0m\u001b[0;34m)\u001b[0m \u001b[0;32mfor\u001b[0m \u001b[0ma\u001b[0m \u001b[0;32min\u001b[0m \u001b[0mdata\u001b[0m\u001b[0;34m[\u001b[0m\u001b[0;36m1\u001b[0m\u001b[0;34m]\u001b[0m\u001b[0;34m]\u001b[0m\u001b[0;34m\u001b[0m\u001b[0;34m\u001b[0m\u001b[0m\n\u001b[0m",
      "\u001b[0;31mTypeError\u001b[0m: object of type 'int' has no len()"
     ]
    }
   ],
   "source": [
    "[len(a) for a in data[1]]"
   ]
  }
 ],
 "metadata": {
  "kernelspec": {
   "display_name": "Python 3 (ipykernel)",
   "language": "python",
   "name": "python3"
  },
  "language_info": {
   "codemirror_mode": {
    "name": "ipython",
    "version": 3
   },
   "file_extension": ".py",
   "mimetype": "text/x-python",
   "name": "python",
   "nbconvert_exporter": "python",
   "pygments_lexer": "ipython3",
   "version": "3.9.7"
  }
 },
 "nbformat": 4,
 "nbformat_minor": 5
}
