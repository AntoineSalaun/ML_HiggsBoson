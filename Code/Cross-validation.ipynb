{
 "cells": [
  {
   "cell_type": "code",
   "execution_count": 1,
   "id": "e17b5734",
   "metadata": {},
   "outputs": [],
   "source": [
    "import numpy as np\n",
    "from helpers import *\n",
    "from Utility import *\n",
    "from data_loader import *\n",
    "\n",
    "%matplotlib inline\n",
    "import numpy as np\n",
    "import matplotlib.pyplot as plt\n",
    "%load_ext autoreload\n",
    "%autoreload 2"
   ]
  },
  {
   "cell_type": "code",
   "execution_count": 2,
   "id": "0f781cf1",
   "metadata": {},
   "outputs": [],
   "source": [
    "data=data_loader('/Users/nounou/Desktop/EPFL/M3/ML/Untitled/ML_course/projects/project1/data')"
   ]
  },
  {
   "cell_type": "code",
   "execution_count": 4,
   "id": "2aa12980",
   "metadata": {},
   "outputs": [],
   "source": [
    "X = data[0]\n",
    "y = np.array(data[1])"
   ]
  },
  {
   "cell_type": "code",
   "execution_count": 10,
   "id": "eb782b4f",
   "metadata": {},
   "outputs": [
    {
     "data": {
      "text/plain": [
       "30"
      ]
     },
     "execution_count": 10,
     "metadata": {},
     "output_type": "execute_result"
    }
   ],
   "source": [
    "initial_w = normal_init_w(len(X), mu = 0, sigma = 0.1)"
   ]
  },
  {
   "cell_type": "code",
   "execution_count": 11,
   "id": "6f8fbbae",
   "metadata": {},
   "outputs": [],
   "source": [
    "weights, losses, MSE = cross_validation(5, X, y, initial_w, 300, 0.1, 0, method = 'least_squares_GD')\n",
    "print(MSE)"
   ]
  },
  {
   "cell_type": "code",
   "execution_count": 12,
   "id": "41cc624a",
   "metadata": {},
   "outputs": [
    {
     "data": {
      "text/plain": [
       "0.30127167611690064"
      ]
     },
     "execution_count": 12,
     "metadata": {},
     "output_type": "execute_result"
    }
   ],
   "source": [
    "weights, losses, MSE = cross_validation(5, X, y, initial_w, 300, 0.1, 0, method = 'least_squares_SGD')\n",
    "print(MSE)"
   ]
  }
 ],
 "metadata": {
  "kernelspec": {
   "display_name": "Python 3 (ipykernel)",
   "language": "python",
   "name": "python3"
  },
  "language_info": {
   "codemirror_mode": {
    "name": "ipython",
    "version": 3
   },
   "file_extension": ".py",
   "mimetype": "text/x-python",
   "name": "python",
   "nbconvert_exporter": "python",
   "pygments_lexer": "ipython3",
   "version": "3.9.7"
  }
 },
 "nbformat": 4,
 "nbformat_minor": 5
}
